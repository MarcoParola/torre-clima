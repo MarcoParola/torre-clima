{
  "cells": [
    {
      "cell_type": "markdown",
      "metadata": {
        "id": "view-in-github",
        "colab_type": "text"
      },
      "source": [
        "<a href=\"https://colab.research.google.com/github/MarcoParola/torre-clima/blob/main/preprocessing.ipynb\" target=\"_parent\"><img src=\"https://colab.research.google.com/assets/colab-badge.svg\" alt=\"Open In Colab\"/></a>"
      ]
    },
    {
      "cell_type": "code",
      "execution_count": null,
      "metadata": {
        "id": "yGqhRjJajO8c",
        "colab": {
          "base_uri": "https://localhost:8080/"
        },
        "outputId": "0340cf98-d756-4f78-9f2e-56b5ea0dc9db"
      },
      "outputs": [
        {
          "output_type": "stream",
          "name": "stdout",
          "text": [
            "Mounted at /content/drive/\n"
          ]
        }
      ],
      "source": [
        "from google.colab import drive\n",
        "drive.mount('/content/drive/', force_remount=True)"
      ]
    },
    {
      "cell_type": "code",
      "execution_count": null,
      "metadata": {
        "id": "Fh4M-6HKmieT"
      },
      "outputs": [],
      "source": [
        "import numpy as np\n",
        "from matplotlib import pyplot as plt\n",
        "import pandas as pd\n",
        "from datetime import date\n",
        "from datetime import datetime as dt\n",
        "from sklearn.preprocessing import MinMaxScaler\n",
        "\n",
        "\n",
        "projectPath = 'drive/MyDrive/Colab Notebooks/leaning_tower/'\n",
        "DATA_FILE = projectPath + 'data/data.txt'\n",
        "DATA1_FILE = projectPath + 'data/data1.txt'\n",
        "\n",
        "START_DATE ='1993-08-01 00:00:00'\n",
        "END_DATE ='2007-06-30 00:00:00'\n",
        "MISSING_VALUE_LABEL = 999999\n",
        "\n",
        "thresholds = {\n",
        "'Date time' : 0,\n",
        "'DEFORMOMETRO INTERNO': [-0.5, 0.5],\n",
        "'DEFORMOMETRO ESTERNO' : [ -0.5, 0.5 ] ,\n",
        "'DEFORMOMETRO SU SCALA' : [ -0.5, 0.5 ] ,\n",
        "'DEFORMOMETRO ESTERNO.1' : [ -0.5, 0.5 ] ,\n",
        "'DEFORMOMETRO SU SCALA.1' : [ -0.5, 0.5 ] ,\n",
        "'DEFORMOMETRO SU SCALA.2' : [ -0.5, 0.5 ] ,\n",
        "'DEFORMOMETRO SU SCALA.3' : [ -0.5, 0.5 ] ,\n",
        "'DEFORMOMETRO ESTERNO.2' : [ -0.5, 0.5 ] ,\n",
        "'DEFORMOMETRO ESTERNO.3' : [ -0.5, 0.5 ] ,\n",
        "'DEFORMOMETRO ESTERNO.4' : [ -0.5, 0.5 ] ,\n",
        "'DEFORMOMETRO SULLA SCALA' : [ -0.5, 0.5 ] ,\n",
        "'DEFORMOMETRO INTERNO.1' : [ -0.5, 0.5 ] ,\n",
        "'DEFORMOMETRO INTERNO.2' : [ -0.5, 0.5 ] ,\n",
        "'DEFORMOMETRO INTERNO.3' : [ -0.5, 0.5 ] ,\n",
        "'DEFORMOMETRO INTERNO.4' : [ -0.5, 0.5 ] ,\n",
        "'DEFORMOMETRO ESTERNO.5' : [ -0.5, 0.5 ] ,\n",
        "'DEFORMOMETRO ESTERNO.6' : [ -0.5, 0.5 ] ,\n",
        "'DEFORMOMETRO ESTERNO.7' : [ -0.5, 0.5 ] ,\n",
        "'DEFORMOMETRO ESTERNO.8' : [ -0.5, 0.5 ] ,\n",
        "'DEFORMOMETRO ESTERNO.9' : [ -0.5, 0.5   ] ,\n",
        "'DEFORMOMETRO SULLE SCALE' : [ -0.5, 0.5 ] ,\n",
        "'DEFORMOMETRO ESTERNO.10' : [ -0.5, 0.5 ] ,\n",
        "'DEFORMOMETRO INTERNO.5' : [ -0.5, 0.5 ] ,\n",
        "'DEFORMOMETRO INTERNO.6' : [ -0.5, 0.5 ] ,\n",
        "'DEFORMOMETRO ESTERNO.11' : [ -0.5, 0.5 ] ,\n",
        "'TEL. 0 VERT. SUD DIR. N-S' : [ -2100, 1800 ] ,\n",
        "'TEL. 0 VERT. SUD DIR. E-O' : [ -2100, 1800 ] ,\n",
        "'Velocita vento istantanea': [0, 45] ,\n",
        "'Direzione vento istantanea' : [ 0, 360 ] ,\n",
        "'Termometro Aria Piano 8' : [ -10, 42] ,\n",
        "'Irraggiamento Solare' : [ 0, 1000 ] ,\n",
        "'TEL. 4 VERT. NORD DIR. N-S' : [ -2100, 50],\n",
        "'TEL. 4 VERT. NORD DIR. E-O' : [ -2100, 50],\n",
        "'TEL. 2 VERT. NORD DIR. N-S' : [ -2100, 50],\n",
        "'TEL. 2 VERT. NORD DIR. E-O' : [ -2100, 50],\n",
        "'TEL. 0 VERT. NORD DIR. N-S' : [ -2100, 50],\n",
        "'TEL. 0 VERT. NORD DIR. E-O' : [ -2100, 50],\n",
        "'TEL. 4 VERT. SUD DIR. N-S' : [ -2100, 50],\n",
        "'TEL. 4 VERT. SUD DIR. E-O' : [ -2100, 50],\n",
        "'TEL. 2 VERT. SUD DIR. N-S' : [ -2100, 50],\n",
        "'TEL. 2 VERT. SUD DIR. E-O' : [ -2100, 50]\n",
        "}\n",
        "\n",
        "cols=[i for i in list(thresholds.keys()) if i not in [\"Date time\"]] \n",
        "\n",
        "\n",
        "def load_dataset(file_mame):\n",
        "  df = pd.read_csv(file_mame, sep=';')\n",
        "  df['Date time'] = pd.to_datetime(df['Date time'])\n",
        "  time_mask = (df['Date time'] >= pd.Timestamp(START_DATE)) & (df['Date time'] <= pd.Timestamp(END_DATE))\n",
        "  df = df[time_mask]\n",
        "  df.set_index('Date time')\n",
        "  df = df.iloc[:, :-1]\n",
        "  return df\n",
        "\n",
        "\n",
        "def zscore(x, window=100):\n",
        "    r = x.rolling(window=window)\n",
        "    m = r.mean().shift(1)\n",
        "    s = r.std(ddof=0).shift(1)\n",
        "    z = (x-m)/s\n",
        "    return z"
      ]
    },
    {
      "cell_type": "markdown",
      "metadata": {
        "id": "3ak-Yahw3Ef7"
      },
      "source": [
        "#Data preprocessing \n",
        "\n",
        "1.   Load data\n",
        "2.   drop record before 1993-08-01 and after 2006-06-30\n",
        "3.   channels selction\n",
        "4.   convert data from string to float\n",
        "5.   remove outliers by upper and lower thresholds\n",
        "\n",
        "min-max scaling\n",
        "\n",
        "hourly resampling\n"
      ]
    },
    {
      "cell_type": "code",
      "execution_count": null,
      "metadata": {
        "colab": {
          "base_uri": "https://localhost:8080/"
        },
        "outputId": "800257d0-3f40-43b9-f63c-2d69a34318d7",
        "id": "e-OyVYug3EgC"
      },
      "outputs": [
        {
          "output_type": "stream",
          "name": "stderr",
          "text": [
            "/usr/local/lib/python3.7/dist-packages/IPython/core/interactiveshell.py:2882: DtypeWarning: Columns (38,39,40,41,44) have mixed types.Specify dtype option on import or set low_memory=False.\n",
            "  exec(code_obj, self.user_global_ns, self.user_ns)\n"
          ]
        }
      ],
      "source": [
        "# 1. 2.\n",
        "df = pd.read_csv(DATA_FILE, sep=';')\n",
        "df['Date time'] = pd.to_datetime(df['Date time'])\n",
        "time_mask = (df['Date time'] >= pd.Timestamp(START_DATE)) & (df['Date time'] <= pd.Timestamp(END_DATE))\n",
        "df = df[time_mask]\n",
        "df.set_index('Date time')\n",
        "df = df.iloc[:, :-1]\n",
        "\n",
        "\n",
        "# 3.\n",
        "df = df[df.columns.intersection(list(thresholds.keys()))] \n",
        "\n",
        "# 4.\n",
        "cols=[i for i in list(thresholds.keys()) if i not in [\"Date time\"]] \n",
        "for col in cols:\n",
        "    df[col]=pd.to_numeric(df[col], errors='coerce')\n",
        " \n",
        "\n",
        "# 6.\n",
        "for col in cols:\n",
        "  df.loc[df[col] <= thresholds[col][0], col] = np.nan\n",
        "  df.loc[df[col] >= thresholds[col][1], col] = np.nan\n",
        "  df.loc[abs(zscore(df[col], 100)) > 3, col] = np.nan\n",
        "  df[col] = df[col].interpolate(method='nearest')\n",
        "df = df.ffill() # usefull if last elements are nan\n",
        "df = df.bfill() # usefull if first elements are nan\n",
        "\n",
        "\n",
        "df = df.resample('180min', on='Date time').mean()\n",
        "\n",
        "for col in cols:\n",
        "  df[col] = df[col].interpolate(method='nearest')\n",
        "  df[col] = (df[col] - np.mean(df[col]) ) / df[col].std()\n",
        "\n",
        "df['Date time'] = df.index"
      ]
    },
    {
      "cell_type": "markdown",
      "source": [
        "save preprocessed data"
      ],
      "metadata": {
        "id": "oPcOjYvTvL4m"
      }
    },
    {
      "cell_type": "code",
      "execution_count": null,
      "metadata": {
        "id": "tS_yTQgh3EgI"
      },
      "outputs": [],
      "source": [
        "df.to_csv(projectPath + 'preprocessed_data.csv')"
      ]
    }
  ],
  "metadata": {
    "colab": {
      "provenance": [],
      "include_colab_link": true
    },
    "kernelspec": {
      "display_name": "Python 3",
      "name": "python3"
    },
    "language_info": {
      "name": "python"
    }
  },
  "nbformat": 4,
  "nbformat_minor": 0
}